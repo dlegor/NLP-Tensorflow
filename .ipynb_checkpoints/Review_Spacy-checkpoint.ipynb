{
 "cells": [
  {
   "cell_type": "markdown",
   "metadata": {},
   "source": [
    "# Review Spacy \n",
    "\n",
    "General Package Details. \n",
    "\n",
    "References:\n",
    " * [Spacy Guides](https://spacy.io/usage)\n",
    " * [Spacy Examles](https://spacy.io/usage/examples)\n",
    " * [Real Python](https://realpython.com/natural-language-processing-spacy-python/)\n"
   ]
  },
  {
   "cell_type": "code",
   "execution_count": 2,
   "metadata": {},
   "outputs": [],
   "source": [
    "import spacy"
   ]
  },
  {
   "cell_type": "code",
   "execution_count": 3,
   "metadata": {},
   "outputs": [
    {
     "name": "stdout",
     "output_type": "stream",
     "text": [
      "2.2.3\n"
     ]
    }
   ],
   "source": [
    "#Version\n",
    "print(spacy.__version__)"
   ]
  },
  {
   "cell_type": "markdown",
   "metadata": {},
   "source": [
    "## Linguistic Features\n",
    "\n",
    " * POS Taggin \n",
    " * Dependency Parse\n",
    " * Named Entities\n",
    " * Entity Linking\n",
    " * Tokenization\n",
    " * Merging and Splitting\n",
    " * Sentence Segmentation\n",
    " \n",
    "Put in raw text, and get back a **Doc** object, that comes with a variety of annotations."
   ]
  },
  {
   "cell_type": "markdown",
   "metadata": {},
   "source": [
    "## Part-of-speech tagging\n",
    "\n",
    "After tokenization, spaCy can parse and tag a given Doc. Like many NLP libraries, spaCy encodes all strings to [hash values](https://en.wikipedia.org/wiki/Hash_function) to reduce memory usage and improve efficiency. "
   ]
  },
  {
   "cell_type": "code",
   "execution_count": 4,
   "metadata": {},
   "outputs": [],
   "source": [
    "nlp=spacy.load(\"en_core_web_sm\")"
   ]
  },
  {
   "cell_type": "code",
   "execution_count": 5,
   "metadata": {},
   "outputs": [],
   "source": [
    "text=open(\"data/GM_News.txt\").read()"
   ]
  },
  {
   "cell_type": "code",
   "execution_count": 6,
   "metadata": {},
   "outputs": [
    {
     "name": "stdout",
     "output_type": "stream",
     "text": [
      "GM said Monday it will invest $2.2 billion into its Detroit-Hamtramck assembly plant to produce all-electric trucks and SUVs as well as a self-driving vehicle unveiled by its subsidiary Cruise. The automaker will invest an additional $800 million in supplier tooling and other projects related to the launch of the new electric trucks.\n",
      "\n",
      "GM will kick off this new program with an all-electric pickup truck that will go into production in late 2021. The Cruise Origin, the electric self-driving shuttle designed for ride sharing, will be the second vehicle to go into production at the Detroit area plant.\n",
      "\n",
      "Detroit-Hamtramck will be GM’s first fully-dedicated electric vehicle assembly plant. When fully operational, the plant will create more than 2,200 jobs, according to GM.\n"
     ]
    }
   ],
   "source": [
    "print(text)"
   ]
  },
  {
   "cell_type": "code",
   "execution_count": 7,
   "metadata": {},
   "outputs": [],
   "source": [
    "#Definition of Doc\n",
    "doc=nlp(text)"
   ]
  },
  {
   "cell_type": "code",
   "execution_count": 8,
   "metadata": {},
   "outputs": [
    {
     "name": "stdout",
     "output_type": "stream",
     "text": [
      "GM -- GM -- PROPN -- NNP -- nsubj -- XX -- True -- False\n",
      "said -- say -- VERB -- VBD -- ROOT -- xxxx -- True -- False\n",
      "Monday -- Monday -- PROPN -- NNP -- npadvmod -- Xxxxx -- True -- False\n",
      "it -- -PRON- -- PRON -- PRP -- nsubj -- xx -- True -- True\n",
      "will -- will -- VERB -- MD -- aux -- xxxx -- True -- True\n",
      "invest -- invest -- VERB -- VB -- ccomp -- xxxx -- True -- False\n",
      "$ -- $ -- SYM -- $ -- quantmod -- $ -- False -- False\n",
      "2.2 -- 2.2 -- NUM -- CD -- compound -- d.d -- False -- False\n",
      "billion -- billion -- NUM -- CD -- dobj -- xxxx -- True -- False\n",
      "into -- into -- ADP -- IN -- prep -- xxxx -- True -- True\n",
      "its -- -PRON- -- DET -- PRP$ -- poss -- xxx -- True -- True\n",
      "Detroit -- Detroit -- PROPN -- NNP -- compound -- Xxxxx -- True -- False\n",
      "- -- - -- PUNCT -- HYPH -- punct -- - -- False -- False\n",
      "Hamtramck -- Hamtramck -- PROPN -- NNP -- compound -- Xxxxx -- True -- False\n",
      "assembly -- assembly -- NOUN -- NN -- compound -- xxxx -- True -- False\n",
      "plant -- plant -- NOUN -- NN -- pobj -- xxxx -- True -- False\n",
      "to -- to -- PART -- TO -- aux -- xx -- True -- True\n",
      "produce -- produce -- VERB -- VB -- advcl -- xxxx -- True -- False\n",
      "all -- all -- DET -- DT -- advmod -- xxx -- True -- True\n",
      "- -- - -- PUNCT -- HYPH -- punct -- - -- False -- False\n",
      "electric -- electric -- ADJ -- JJ -- amod -- xxxx -- True -- False\n",
      "trucks -- truck -- NOUN -- NNS -- dobj -- xxxx -- True -- False\n",
      "and -- and -- CCONJ -- CC -- cc -- xxx -- True -- True\n",
      "SUVs -- suv -- NOUN -- NNS -- conj -- XXXx -- True -- False\n",
      "as -- as -- ADV -- RB -- advmod -- xx -- True -- True\n",
      "well -- well -- ADV -- RB -- advmod -- xxxx -- True -- True\n",
      "as -- as -- SCONJ -- IN -- cc -- xx -- True -- True\n",
      "a -- a -- DET -- DT -- det -- x -- True -- True\n",
      "self -- self -- NOUN -- NN -- npadvmod -- xxxx -- True -- False\n",
      "- -- - -- PUNCT -- HYPH -- punct -- - -- False -- False\n",
      "driving -- drive -- VERB -- VBG -- amod -- xxxx -- True -- False\n",
      "vehicle -- vehicle -- NOUN -- NN -- dobj -- xxxx -- True -- False\n",
      "unveiled -- unveil -- VERB -- VBN -- acl -- xxxx -- True -- False\n",
      "by -- by -- ADP -- IN -- agent -- xx -- True -- True\n",
      "its -- -PRON- -- DET -- PRP$ -- poss -- xxx -- True -- True\n",
      "subsidiary -- subsidiary -- NOUN -- NN -- pobj -- xxxx -- True -- False\n",
      "Cruise -- Cruise -- PROPN -- NNP -- appos -- Xxxxx -- True -- False\n",
      ". -- . -- PUNCT -- . -- punct -- . -- False -- False\n",
      "The -- the -- DET -- DT -- det -- Xxx -- True -- True\n",
      "automaker -- automaker -- NOUN -- NN -- nsubj -- xxxx -- True -- False\n",
      "will -- will -- VERB -- MD -- aux -- xxxx -- True -- True\n",
      "invest -- invest -- VERB -- VB -- ROOT -- xxxx -- True -- False\n",
      "an -- an -- DET -- DT -- det -- xx -- True -- True\n",
      "additional -- additional -- ADJ -- JJ -- amod -- xxxx -- True -- False\n",
      "$ -- $ -- SYM -- $ -- quantmod -- $ -- False -- False\n",
      "800 -- 800 -- NUM -- CD -- compound -- ddd -- False -- False\n",
      "million -- million -- NUM -- CD -- dobj -- xxxx -- True -- False\n",
      "in -- in -- ADP -- IN -- prep -- xx -- True -- True\n",
      "supplier -- supplier -- NOUN -- NN -- compound -- xxxx -- True -- False\n",
      "tooling -- tooling -- NOUN -- NN -- pobj -- xxxx -- True -- False\n",
      "and -- and -- CCONJ -- CC -- cc -- xxx -- True -- True\n",
      "other -- other -- ADJ -- JJ -- amod -- xxxx -- True -- True\n",
      "projects -- project -- NOUN -- NNS -- conj -- xxxx -- True -- False\n",
      "related -- relate -- VERB -- VBN -- acl -- xxxx -- True -- False\n",
      "to -- to -- ADP -- IN -- prep -- xx -- True -- True\n",
      "the -- the -- DET -- DT -- det -- xxx -- True -- True\n",
      "launch -- launch -- NOUN -- NN -- pobj -- xxxx -- True -- False\n",
      "of -- of -- ADP -- IN -- prep -- xx -- True -- True\n",
      "the -- the -- DET -- DT -- det -- xxx -- True -- True\n",
      "new -- new -- ADJ -- JJ -- amod -- xxx -- True -- False\n",
      "electric -- electric -- ADJ -- JJ -- amod -- xxxx -- True -- False\n",
      "trucks -- truck -- NOUN -- NNS -- pobj -- xxxx -- True -- False\n",
      ". -- . -- PUNCT -- . -- punct -- . -- False -- False\n",
      "\n",
      "\n",
      " -- \n",
      "\n",
      " -- SPACE -- _SP --  -- \n",
      "\n",
      " -- False -- False\n",
      "GM -- GM -- PROPN -- NNP -- nsubj -- XX -- True -- False\n",
      "will -- will -- VERB -- MD -- aux -- xxxx -- True -- True\n",
      "kick -- kick -- VERB -- VB -- ROOT -- xxxx -- True -- False\n",
      "off -- off -- ADP -- RP -- prt -- xxx -- True -- True\n",
      "this -- this -- DET -- DT -- det -- xxxx -- True -- True\n",
      "new -- new -- ADJ -- JJ -- amod -- xxx -- True -- False\n",
      "program -- program -- NOUN -- NN -- dobj -- xxxx -- True -- False\n",
      "with -- with -- ADP -- IN -- prep -- xxxx -- True -- True\n",
      "an -- an -- DET -- DT -- det -- xx -- True -- True\n",
      "all -- all -- ADV -- RB -- advmod -- xxx -- True -- True\n",
      "- -- - -- PUNCT -- HYPH -- punct -- - -- False -- False\n",
      "electric -- electric -- ADJ -- JJ -- amod -- xxxx -- True -- False\n",
      "pickup -- pickup -- NOUN -- NN -- compound -- xxxx -- True -- False\n",
      "truck -- truck -- NOUN -- NN -- pobj -- xxxx -- True -- False\n",
      "that -- that -- DET -- WDT -- nsubj -- xxxx -- True -- True\n",
      "will -- will -- VERB -- MD -- aux -- xxxx -- True -- True\n",
      "go -- go -- VERB -- VB -- relcl -- xx -- True -- True\n",
      "into -- into -- ADP -- IN -- prep -- xxxx -- True -- True\n",
      "production -- production -- NOUN -- NN -- pobj -- xxxx -- True -- False\n",
      "in -- in -- ADP -- IN -- prep -- xx -- True -- True\n",
      "late -- late -- ADJ -- JJ -- amod -- xxxx -- True -- False\n",
      "2021 -- 2021 -- NUM -- CD -- pobj -- dddd -- False -- False\n",
      ". -- . -- PUNCT -- . -- punct -- . -- False -- False\n",
      "The -- the -- DET -- DT -- det -- Xxx -- True -- True\n",
      "Cruise -- Cruise -- PROPN -- NNP -- compound -- Xxxxx -- True -- False\n",
      "Origin -- Origin -- PROPN -- NNP -- nsubj -- Xxxxx -- True -- False\n",
      ", -- , -- PUNCT -- , -- punct -- , -- False -- False\n",
      "the -- the -- DET -- DT -- det -- xxx -- True -- True\n",
      "electric -- electric -- ADJ -- JJ -- amod -- xxxx -- True -- False\n",
      "self -- self -- NOUN -- NN -- npadvmod -- xxxx -- True -- False\n",
      "- -- - -- PUNCT -- HYPH -- punct -- - -- False -- False\n",
      "driving -- drive -- VERB -- VBG -- amod -- xxxx -- True -- False\n",
      "shuttle -- shuttle -- NOUN -- NN -- appos -- xxxx -- True -- False\n",
      "designed -- design -- VERB -- VBN -- acl -- xxxx -- True -- False\n",
      "for -- for -- ADP -- IN -- prep -- xxx -- True -- True\n",
      "ride -- ride -- NOUN -- NN -- compound -- xxxx -- True -- False\n",
      "sharing -- sharing -- NOUN -- NN -- pobj -- xxxx -- True -- False\n",
      ", -- , -- PUNCT -- , -- punct -- , -- False -- False\n",
      "will -- will -- VERB -- MD -- aux -- xxxx -- True -- True\n",
      "be -- be -- AUX -- VB -- ROOT -- xx -- True -- True\n",
      "the -- the -- DET -- DT -- det -- xxx -- True -- True\n",
      "second -- second -- ADJ -- JJ -- amod -- xxxx -- True -- False\n",
      "vehicle -- vehicle -- NOUN -- NN -- attr -- xxxx -- True -- False\n",
      "to -- to -- PART -- TO -- aux -- xx -- True -- True\n",
      "go -- go -- VERB -- VB -- relcl -- xx -- True -- True\n",
      "into -- into -- ADP -- IN -- prep -- xxxx -- True -- True\n",
      "production -- production -- NOUN -- NN -- pobj -- xxxx -- True -- False\n",
      "at -- at -- ADP -- IN -- prep -- xx -- True -- True\n",
      "the -- the -- DET -- DT -- det -- xxx -- True -- True\n",
      "Detroit -- Detroit -- PROPN -- NNP -- compound -- Xxxxx -- True -- False\n",
      "area -- area -- NOUN -- NN -- compound -- xxxx -- True -- False\n",
      "plant -- plant -- NOUN -- NN -- pobj -- xxxx -- True -- False\n",
      ". -- . -- PUNCT -- . -- punct -- . -- False -- False\n",
      "\n",
      "\n",
      " -- \n",
      "\n",
      " -- SPACE -- _SP --  -- \n",
      "\n",
      " -- False -- False\n",
      "Detroit -- Detroit -- PROPN -- NNP -- compound -- Xxxxx -- True -- False\n",
      "- -- - -- PUNCT -- HYPH -- punct -- - -- False -- False\n",
      "Hamtramck -- Hamtramck -- PROPN -- NNP -- nsubj -- Xxxxx -- True -- False\n",
      "will -- will -- VERB -- MD -- aux -- xxxx -- True -- True\n",
      "be -- be -- AUX -- VB -- ROOT -- xx -- True -- True\n",
      "GM -- GM -- PROPN -- NNP -- attr -- XX -- True -- False\n",
      "’s -- ’s -- PART -- POS -- punct -- ’x -- False -- True\n",
      "first -- first -- ADJ -- JJ -- amod -- xxxx -- True -- True\n",
      "fully -- fully -- ADV -- RB -- advmod -- xxxx -- True -- False\n",
      "- -- - -- PUNCT -- HYPH -- punct -- - -- False -- False\n",
      "dedicated -- dedicate -- VERB -- VBN -- amod -- xxxx -- True -- False\n",
      "electric -- electric -- ADJ -- JJ -- amod -- xxxx -- True -- False\n",
      "vehicle -- vehicle -- NOUN -- NN -- compound -- xxxx -- True -- False\n",
      "assembly -- assembly -- NOUN -- NN -- compound -- xxxx -- True -- False\n",
      "plant -- plant -- NOUN -- NN -- appos -- xxxx -- True -- False\n",
      ". -- . -- PUNCT -- . -- punct -- . -- False -- False\n",
      "When -- when -- ADV -- WRB -- advmod -- Xxxx -- True -- True\n",
      "fully -- fully -- ADV -- RB -- advmod -- xxxx -- True -- False\n",
      "operational -- operational -- ADJ -- JJ -- advcl -- xxxx -- True -- False\n",
      ", -- , -- PUNCT -- , -- punct -- , -- False -- False\n",
      "the -- the -- DET -- DT -- det -- xxx -- True -- True\n",
      "plant -- plant -- NOUN -- NN -- nsubj -- xxxx -- True -- False\n",
      "will -- will -- VERB -- MD -- aux -- xxxx -- True -- True\n",
      "create -- create -- VERB -- VB -- ROOT -- xxxx -- True -- False\n",
      "more -- more -- ADJ -- JJR -- amod -- xxxx -- True -- True\n",
      "than -- than -- SCONJ -- IN -- quantmod -- xxxx -- True -- True\n",
      "2,200 -- 2,200 -- NUM -- CD -- nummod -- d,ddd -- False -- False\n",
      "jobs -- job -- NOUN -- NNS -- dobj -- xxxx -- True -- False\n",
      ", -- , -- PUNCT -- , -- punct -- , -- False -- False\n",
      "according -- accord -- VERB -- VBG -- prep -- xxxx -- True -- False\n",
      "to -- to -- ADP -- IN -- prep -- xx -- True -- True\n",
      "GM -- GM -- PROPN -- NNP -- pobj -- XX -- True -- False\n",
      ". -- . -- PUNCT -- . -- punct -- . -- False -- False\n"
     ]
    }
   ],
   "source": [
    "for token in doc:\n",
    "    print(token.text,'--',token.lemma_,'--', token.pos_,'--', token.tag_,'--', token.dep_,'--',\n",
    "            token.shape_,'--', token.is_alpha,'--', token.is_stop)"
   ]
  },
  {
   "cell_type": "markdown",
   "metadata": {},
   "source": [
    "Tha's is really interesting, the spacy model for example:\n",
    "``` \n",
    "said -- say -- VERB -- VBD -- ROOT -- xxxx -- True -- False\n",
    "```\n",
    "\n",
    "Give the description of the linguistics properties."
   ]
  },
  {
   "cell_type": "code",
   "execution_count": 9,
   "metadata": {},
   "outputs": [
    {
     "name": "stdout",
     "output_type": "stream",
     "text": [
      "GM -- GM -- nsubj -- said\n",
      "it -- it -- nsubj -- invest\n",
      "its Detroit-Hamtramck assembly plant -- plant -- pobj -- into\n",
      "all-electric trucks -- trucks -- dobj -- produce\n",
      "SUVs -- SUVs -- conj -- trucks\n",
      "a self-driving vehicle -- vehicle -- dobj -- produce\n",
      "its subsidiary -- subsidiary -- pobj -- by\n",
      "Cruise -- Cruise -- appos -- subsidiary\n",
      "The automaker -- automaker -- nsubj -- invest\n",
      "supplier tooling -- tooling -- pobj -- in\n",
      "other projects -- projects -- conj -- tooling\n",
      "the launch -- launch -- pobj -- to\n",
      "the new electric trucks -- trucks -- pobj -- of\n",
      "GM -- GM -- nsubj -- kick\n",
      "this new program -- program -- dobj -- kick\n",
      "an all-electric pickup truck -- truck -- pobj -- with\n",
      "production -- production -- pobj -- into\n",
      "The Cruise Origin -- Origin -- nsubj -- be\n",
      "the electric self-driving shuttle -- shuttle -- appos -- Origin\n",
      "ride sharing -- sharing -- pobj -- for\n",
      "the second vehicle -- vehicle -- attr -- be\n",
      "production -- production -- pobj -- into\n",
      "the Detroit area plant -- plant -- pobj -- at\n",
      "Detroit-Hamtramck -- Hamtramck -- nsubj -- be\n",
      "GM -- GM -- attr -- be\n",
      "first fully-dedicated electric vehicle assembly plant -- plant -- appos -- GM\n",
      "the plant -- plant -- nsubj -- create\n",
      "more than 2,200 jobs -- jobs -- dobj -- create\n",
      "GM -- GM -- pobj -- to\n"
     ]
    }
   ],
   "source": [
    "# Noun chunks: Noun chunks are “base noun phrases”\n",
    "for chunk in doc.noun_chunks:\n",
    "    print(chunk.text,'--', chunk.root.text,'--', chunk.root.dep_,'--',\n",
    "            chunk.root.head.text)"
   ]
  },
  {
   "cell_type": "code",
   "execution_count": 10,
   "metadata": {},
   "outputs": [
    {
     "data": {
      "text/html": [
       "<svg xmlns=\"http://www.w3.org/2000/svg\" xmlns:xlink=\"http://www.w3.org/1999/xlink\" xml:lang=\"en\" id=\"e4f2a1844a3a4887b61e5b4138213fd4-0\" class=\"displacy\" width=\"1275\" height=\"312.0\" direction=\"ltr\" style=\"max-width: none; height: 312.0px; color: #000000; background: #ffffff; font-family: Arial; direction: ltr\">\n",
       "<text class=\"displacy-token\" fill=\"currentColor\" text-anchor=\"middle\" y=\"222.0\">\n",
       "    <tspan class=\"displacy-word\" fill=\"currentColor\" x=\"50\">Autonomous</tspan>\n",
       "    <tspan class=\"displacy-tag\" dy=\"2em\" fill=\"currentColor\" x=\"50\">ADJ</tspan>\n",
       "</text>\n",
       "\n",
       "<text class=\"displacy-token\" fill=\"currentColor\" text-anchor=\"middle\" y=\"222.0\">\n",
       "    <tspan class=\"displacy-word\" fill=\"currentColor\" x=\"225\">cars</tspan>\n",
       "    <tspan class=\"displacy-tag\" dy=\"2em\" fill=\"currentColor\" x=\"225\">NOUN</tspan>\n",
       "</text>\n",
       "\n",
       "<text class=\"displacy-token\" fill=\"currentColor\" text-anchor=\"middle\" y=\"222.0\">\n",
       "    <tspan class=\"displacy-word\" fill=\"currentColor\" x=\"400\">shift</tspan>\n",
       "    <tspan class=\"displacy-tag\" dy=\"2em\" fill=\"currentColor\" x=\"400\">VERB</tspan>\n",
       "</text>\n",
       "\n",
       "<text class=\"displacy-token\" fill=\"currentColor\" text-anchor=\"middle\" y=\"222.0\">\n",
       "    <tspan class=\"displacy-word\" fill=\"currentColor\" x=\"575\">insurance</tspan>\n",
       "    <tspan class=\"displacy-tag\" dy=\"2em\" fill=\"currentColor\" x=\"575\">NOUN</tspan>\n",
       "</text>\n",
       "\n",
       "<text class=\"displacy-token\" fill=\"currentColor\" text-anchor=\"middle\" y=\"222.0\">\n",
       "    <tspan class=\"displacy-word\" fill=\"currentColor\" x=\"750\">liability</tspan>\n",
       "    <tspan class=\"displacy-tag\" dy=\"2em\" fill=\"currentColor\" x=\"750\">NOUN</tspan>\n",
       "</text>\n",
       "\n",
       "<text class=\"displacy-token\" fill=\"currentColor\" text-anchor=\"middle\" y=\"222.0\">\n",
       "    <tspan class=\"displacy-word\" fill=\"currentColor\" x=\"925\">toward</tspan>\n",
       "    <tspan class=\"displacy-tag\" dy=\"2em\" fill=\"currentColor\" x=\"925\">ADP</tspan>\n",
       "</text>\n",
       "\n",
       "<text class=\"displacy-token\" fill=\"currentColor\" text-anchor=\"middle\" y=\"222.0\">\n",
       "    <tspan class=\"displacy-word\" fill=\"currentColor\" x=\"1100\">manufacturers</tspan>\n",
       "    <tspan class=\"displacy-tag\" dy=\"2em\" fill=\"currentColor\" x=\"1100\">NOUN</tspan>\n",
       "</text>\n",
       "\n",
       "<g class=\"displacy-arrow\">\n",
       "    <path class=\"displacy-arc\" id=\"arrow-e4f2a1844a3a4887b61e5b4138213fd4-0-0\" stroke-width=\"2px\" d=\"M70,177.0 C70,89.5 220.0,89.5 220.0,177.0\" fill=\"none\" stroke=\"currentColor\"/>\n",
       "    <text dy=\"1.25em\" style=\"font-size: 0.8em; letter-spacing: 1px\">\n",
       "        <textPath xlink:href=\"#arrow-e4f2a1844a3a4887b61e5b4138213fd4-0-0\" class=\"displacy-label\" startOffset=\"50%\" side=\"left\" fill=\"currentColor\" text-anchor=\"middle\">amod</textPath>\n",
       "    </text>\n",
       "    <path class=\"displacy-arrowhead\" d=\"M70,179.0 L62,167.0 78,167.0\" fill=\"currentColor\"/>\n",
       "</g>\n",
       "\n",
       "<g class=\"displacy-arrow\">\n",
       "    <path class=\"displacy-arc\" id=\"arrow-e4f2a1844a3a4887b61e5b4138213fd4-0-1\" stroke-width=\"2px\" d=\"M245,177.0 C245,89.5 395.0,89.5 395.0,177.0\" fill=\"none\" stroke=\"currentColor\"/>\n",
       "    <text dy=\"1.25em\" style=\"font-size: 0.8em; letter-spacing: 1px\">\n",
       "        <textPath xlink:href=\"#arrow-e4f2a1844a3a4887b61e5b4138213fd4-0-1\" class=\"displacy-label\" startOffset=\"50%\" side=\"left\" fill=\"currentColor\" text-anchor=\"middle\">nsubj</textPath>\n",
       "    </text>\n",
       "    <path class=\"displacy-arrowhead\" d=\"M245,179.0 L237,167.0 253,167.0\" fill=\"currentColor\"/>\n",
       "</g>\n",
       "\n",
       "<g class=\"displacy-arrow\">\n",
       "    <path class=\"displacy-arc\" id=\"arrow-e4f2a1844a3a4887b61e5b4138213fd4-0-2\" stroke-width=\"2px\" d=\"M595,177.0 C595,89.5 745.0,89.5 745.0,177.0\" fill=\"none\" stroke=\"currentColor\"/>\n",
       "    <text dy=\"1.25em\" style=\"font-size: 0.8em; letter-spacing: 1px\">\n",
       "        <textPath xlink:href=\"#arrow-e4f2a1844a3a4887b61e5b4138213fd4-0-2\" class=\"displacy-label\" startOffset=\"50%\" side=\"left\" fill=\"currentColor\" text-anchor=\"middle\">compound</textPath>\n",
       "    </text>\n",
       "    <path class=\"displacy-arrowhead\" d=\"M595,179.0 L587,167.0 603,167.0\" fill=\"currentColor\"/>\n",
       "</g>\n",
       "\n",
       "<g class=\"displacy-arrow\">\n",
       "    <path class=\"displacy-arc\" id=\"arrow-e4f2a1844a3a4887b61e5b4138213fd4-0-3\" stroke-width=\"2px\" d=\"M420,177.0 C420,2.0 750.0,2.0 750.0,177.0\" fill=\"none\" stroke=\"currentColor\"/>\n",
       "    <text dy=\"1.25em\" style=\"font-size: 0.8em; letter-spacing: 1px\">\n",
       "        <textPath xlink:href=\"#arrow-e4f2a1844a3a4887b61e5b4138213fd4-0-3\" class=\"displacy-label\" startOffset=\"50%\" side=\"left\" fill=\"currentColor\" text-anchor=\"middle\">dobj</textPath>\n",
       "    </text>\n",
       "    <path class=\"displacy-arrowhead\" d=\"M750.0,179.0 L758.0,167.0 742.0,167.0\" fill=\"currentColor\"/>\n",
       "</g>\n",
       "\n",
       "<g class=\"displacy-arrow\">\n",
       "    <path class=\"displacy-arc\" id=\"arrow-e4f2a1844a3a4887b61e5b4138213fd4-0-4\" stroke-width=\"2px\" d=\"M770,177.0 C770,89.5 920.0,89.5 920.0,177.0\" fill=\"none\" stroke=\"currentColor\"/>\n",
       "    <text dy=\"1.25em\" style=\"font-size: 0.8em; letter-spacing: 1px\">\n",
       "        <textPath xlink:href=\"#arrow-e4f2a1844a3a4887b61e5b4138213fd4-0-4\" class=\"displacy-label\" startOffset=\"50%\" side=\"left\" fill=\"currentColor\" text-anchor=\"middle\">prep</textPath>\n",
       "    </text>\n",
       "    <path class=\"displacy-arrowhead\" d=\"M920.0,179.0 L928.0,167.0 912.0,167.0\" fill=\"currentColor\"/>\n",
       "</g>\n",
       "\n",
       "<g class=\"displacy-arrow\">\n",
       "    <path class=\"displacy-arc\" id=\"arrow-e4f2a1844a3a4887b61e5b4138213fd4-0-5\" stroke-width=\"2px\" d=\"M945,177.0 C945,89.5 1095.0,89.5 1095.0,177.0\" fill=\"none\" stroke=\"currentColor\"/>\n",
       "    <text dy=\"1.25em\" style=\"font-size: 0.8em; letter-spacing: 1px\">\n",
       "        <textPath xlink:href=\"#arrow-e4f2a1844a3a4887b61e5b4138213fd4-0-5\" class=\"displacy-label\" startOffset=\"50%\" side=\"left\" fill=\"currentColor\" text-anchor=\"middle\">pobj</textPath>\n",
       "    </text>\n",
       "    <path class=\"displacy-arrowhead\" d=\"M1095.0,179.0 L1103.0,167.0 1087.0,167.0\" fill=\"currentColor\"/>\n",
       "</g>\n",
       "</svg>"
      ],
      "text/plain": [
       "<IPython.core.display.HTML object>"
      ]
     },
     "metadata": {},
     "output_type": "display_data"
    }
   ],
   "source": [
    "# Visualizing dependencies\n",
    "\n",
    "from spacy import displacy\n",
    "\n",
    "nlp = spacy.load(\"en_core_web_sm\")\n",
    "doc = nlp(\"Autonomous cars shift insurance liability toward manufacturers\")\n",
    "# Since this is an interactive Jupyter environment, we can use displacy.render here\n",
    "displacy.render(doc, style='dep')"
   ]
  },
  {
   "cell_type": "code",
   "execution_count": 11,
   "metadata": {},
   "outputs": [
    {
     "name": "stdout",
     "output_type": "stream",
     "text": [
      "{shift}\n"
     ]
    }
   ],
   "source": [
    "# Finding a verb with a subject from below — good\n",
    "\n",
    "from spacy.symbols import nsubj, VERB\n",
    "\n",
    "\n",
    "verbs = set()\n",
    "for possible_subject in doc:\n",
    "    if possible_subject.dep == nsubj and possible_subject.head.pos == VERB:\n",
    "        verbs.add(possible_subject.head)\n",
    "print(verbs)"
   ]
  },
  {
   "cell_type": "markdown",
   "metadata": {},
   "source": [
    "## Disabling the parser\n",
    "\n",
    "#Examples\n",
    "\n",
    "```python\n",
    "nlp = spacy.load(\"en_core_web_sm\", disable=[\"parser\"])\n",
    "nlp = English().from_disk(\"/model\", disable=[\"parser\"])\n",
    "doc = nlp(\"I don't want parsed\", disable=[\"parser\"])\n",
    "```"
   ]
  },
  {
   "cell_type": "markdown",
   "metadata": {},
   "source": [
    "## Named Entity Recognition\n",
    "\n",
    "spaCy features an extremely fast statistical **entity recognition system**, that assigns labels to contiguous spans of tokens. The default model identifies a variety of named and numeric entities, including companies, locations, organizations and products. You can add arbitrary classes to the entity recognition system, and **update the model with new examples**."
   ]
  },
  {
   "cell_type": "code",
   "execution_count": 12,
   "metadata": {},
   "outputs": [
    {
     "name": "stdout",
     "output_type": "stream",
     "text": [
      "GM said Monday it will invest $2.2 billion into its Detroit-Hamtramck assembly plant to produce all-electric trucks and SUVs as well as a self-driving vehicle unveiled by its subsidiary Cruise. The automaker will invest an additional $800 million in supplier tooling and other projects related to the launch of the new electric trucks.\n",
      "\n",
      "GM will kick off this new program with an all-electric pickup truck that will go into production in late 2021. The Cruise Origin, the electric self-driving shuttle designed for ride sharing, will be the second vehicle to go into production at the Detroit area plant.\n",
      "\n",
      "Detroit-Hamtramck will be GM’s first fully-dedicated electric vehicle assembly plant. When fully operational, the plant will create more than 2,200 jobs, according to GM.\n"
     ]
    }
   ],
   "source": [
    "#Change the text for the examples\n",
    "text=open(\"data/GM_News.txt\").read()\n",
    "print(text)"
   ]
  },
  {
   "cell_type": "code",
   "execution_count": 15,
   "metadata": {},
   "outputs": [
    {
     "name": "stdout",
     "output_type": "stream",
     "text": [
      "GM 0 2 ORG\n",
      "Monday 8 14 DATE\n",
      "$2.2 billion 30 42 MONEY\n",
      "Detroit-Hamtramck 52 69 ORG\n",
      "an additional $800 million 220 246 MONEY\n",
      "GM 337 339 ORG\n",
      "late 2021 437 446 DATE\n",
      "second 540 546 ORDINAL\n",
      "Detroit 584 591 GPE\n",
      "Detroit-Hamtramck 605 622 ORG\n",
      "GM 631 633 ORG\n",
      "first 636 641 ORDINAL\n",
      "more than 2,200 737 752 CARDINAL\n",
      "GM 772 774 ORG\n"
     ]
    }
   ],
   "source": [
    "import spacy\n",
    "\n",
    "nlp = spacy.load(\"en_core_web_sm\")\n",
    "doc=nlp(text)\n",
    "\n",
    "\n",
    "for ent in doc.ents:\n",
    "    print(ent.text, ent.start_char, ent.end_char, ent.label_)\n"
   ]
  },
  {
   "cell_type": "markdown",
   "metadata": {},
   "source": [
    "Spacy Model detected those entities.But, it's possible to improve the model!!"
   ]
  },
  {
   "cell_type": "code",
   "execution_count": 17,
   "metadata": {},
   "outputs": [
    {
     "data": {
      "text/html": [
       "<div class=\"entities\" style=\"line-height: 2.5; direction: ltr\">\n",
       "<mark class=\"entity\" style=\"background: #7aecec; padding: 0.45em 0.6em; margin: 0 0.25em; line-height: 1; border-radius: 0.35em;\">\n",
       "    GM\n",
       "    <span style=\"font-size: 0.8em; font-weight: bold; line-height: 1; border-radius: 0.35em; text-transform: uppercase; vertical-align: middle; margin-left: 0.5rem\">ORG</span>\n",
       "</mark>\n",
       " said \n",
       "<mark class=\"entity\" style=\"background: #bfe1d9; padding: 0.45em 0.6em; margin: 0 0.25em; line-height: 1; border-radius: 0.35em;\">\n",
       "    Monday\n",
       "    <span style=\"font-size: 0.8em; font-weight: bold; line-height: 1; border-radius: 0.35em; text-transform: uppercase; vertical-align: middle; margin-left: 0.5rem\">DATE</span>\n",
       "</mark>\n",
       " it will invest \n",
       "<mark class=\"entity\" style=\"background: #e4e7d2; padding: 0.45em 0.6em; margin: 0 0.25em; line-height: 1; border-radius: 0.35em;\">\n",
       "    $2.2 billion\n",
       "    <span style=\"font-size: 0.8em; font-weight: bold; line-height: 1; border-radius: 0.35em; text-transform: uppercase; vertical-align: middle; margin-left: 0.5rem\">MONEY</span>\n",
       "</mark>\n",
       " into its \n",
       "<mark class=\"entity\" style=\"background: #7aecec; padding: 0.45em 0.6em; margin: 0 0.25em; line-height: 1; border-radius: 0.35em;\">\n",
       "    Detroit-Hamtramck\n",
       "    <span style=\"font-size: 0.8em; font-weight: bold; line-height: 1; border-radius: 0.35em; text-transform: uppercase; vertical-align: middle; margin-left: 0.5rem\">ORG</span>\n",
       "</mark>\n",
       " assembly plant to produce all-electric trucks and SUVs as well as a self-driving vehicle unveiled by its subsidiary Cruise. The automaker will invest \n",
       "<mark class=\"entity\" style=\"background: #e4e7d2; padding: 0.45em 0.6em; margin: 0 0.25em; line-height: 1; border-radius: 0.35em;\">\n",
       "    an additional $800 million\n",
       "    <span style=\"font-size: 0.8em; font-weight: bold; line-height: 1; border-radius: 0.35em; text-transform: uppercase; vertical-align: middle; margin-left: 0.5rem\">MONEY</span>\n",
       "</mark>\n",
       " in supplier tooling and other projects related to the launch of the new electric trucks.</br></br>\n",
       "<mark class=\"entity\" style=\"background: #7aecec; padding: 0.45em 0.6em; margin: 0 0.25em; line-height: 1; border-radius: 0.35em;\">\n",
       "    GM\n",
       "    <span style=\"font-size: 0.8em; font-weight: bold; line-height: 1; border-radius: 0.35em; text-transform: uppercase; vertical-align: middle; margin-left: 0.5rem\">ORG</span>\n",
       "</mark>\n",
       " will kick off this new program with an all-electric pickup truck that will go into production in \n",
       "<mark class=\"entity\" style=\"background: #bfe1d9; padding: 0.45em 0.6em; margin: 0 0.25em; line-height: 1; border-radius: 0.35em;\">\n",
       "    late 2021\n",
       "    <span style=\"font-size: 0.8em; font-weight: bold; line-height: 1; border-radius: 0.35em; text-transform: uppercase; vertical-align: middle; margin-left: 0.5rem\">DATE</span>\n",
       "</mark>\n",
       ". The Cruise Origin, the electric self-driving shuttle designed for ride sharing, will be the \n",
       "<mark class=\"entity\" style=\"background: #e4e7d2; padding: 0.45em 0.6em; margin: 0 0.25em; line-height: 1; border-radius: 0.35em;\">\n",
       "    second\n",
       "    <span style=\"font-size: 0.8em; font-weight: bold; line-height: 1; border-radius: 0.35em; text-transform: uppercase; vertical-align: middle; margin-left: 0.5rem\">ORDINAL</span>\n",
       "</mark>\n",
       " vehicle to go into production at the \n",
       "<mark class=\"entity\" style=\"background: #feca74; padding: 0.45em 0.6em; margin: 0 0.25em; line-height: 1; border-radius: 0.35em;\">\n",
       "    Detroit\n",
       "    <span style=\"font-size: 0.8em; font-weight: bold; line-height: 1; border-radius: 0.35em; text-transform: uppercase; vertical-align: middle; margin-left: 0.5rem\">GPE</span>\n",
       "</mark>\n",
       " area plant.</br></br>\n",
       "<mark class=\"entity\" style=\"background: #7aecec; padding: 0.45em 0.6em; margin: 0 0.25em; line-height: 1; border-radius: 0.35em;\">\n",
       "    Detroit-Hamtramck\n",
       "    <span style=\"font-size: 0.8em; font-weight: bold; line-height: 1; border-radius: 0.35em; text-transform: uppercase; vertical-align: middle; margin-left: 0.5rem\">ORG</span>\n",
       "</mark>\n",
       " will be \n",
       "<mark class=\"entity\" style=\"background: #7aecec; padding: 0.45em 0.6em; margin: 0 0.25em; line-height: 1; border-radius: 0.35em;\">\n",
       "    GM\n",
       "    <span style=\"font-size: 0.8em; font-weight: bold; line-height: 1; border-radius: 0.35em; text-transform: uppercase; vertical-align: middle; margin-left: 0.5rem\">ORG</span>\n",
       "</mark>\n",
       "’s \n",
       "<mark class=\"entity\" style=\"background: #e4e7d2; padding: 0.45em 0.6em; margin: 0 0.25em; line-height: 1; border-radius: 0.35em;\">\n",
       "    first\n",
       "    <span style=\"font-size: 0.8em; font-weight: bold; line-height: 1; border-radius: 0.35em; text-transform: uppercase; vertical-align: middle; margin-left: 0.5rem\">ORDINAL</span>\n",
       "</mark>\n",
       " fully-dedicated electric vehicle assembly plant. When fully operational, the plant will create \n",
       "<mark class=\"entity\" style=\"background: #e4e7d2; padding: 0.45em 0.6em; margin: 0 0.25em; line-height: 1; border-radius: 0.35em;\">\n",
       "    more than 2,200\n",
       "    <span style=\"font-size: 0.8em; font-weight: bold; line-height: 1; border-radius: 0.35em; text-transform: uppercase; vertical-align: middle; margin-left: 0.5rem\">CARDINAL</span>\n",
       "</mark>\n",
       " jobs, according to \n",
       "<mark class=\"entity\" style=\"background: #7aecec; padding: 0.45em 0.6em; margin: 0 0.25em; line-height: 1; border-radius: 0.35em;\">\n",
       "    GM\n",
       "    <span style=\"font-size: 0.8em; font-weight: bold; line-height: 1; border-radius: 0.35em; text-transform: uppercase; vertical-align: middle; margin-left: 0.5rem\">ORG</span>\n",
       "</mark>\n",
       ".</div>"
      ],
      "text/plain": [
       "<IPython.core.display.HTML object>"
      ]
     },
     "metadata": {},
     "output_type": "display_data"
    }
   ],
   "source": [
    "displacy.render(doc, style=\"ent\")"
   ]
  },
  {
   "cell_type": "markdown",
   "metadata": {},
   "source": [
    "## Setting entity annotations"
   ]
  },
  {
   "cell_type": "code",
   "execution_count": 18,
   "metadata": {},
   "outputs": [
    {
     "name": "stdout",
     "output_type": "stream",
     "text": [
      "##################################################\n",
      "Before []\n",
      "##################################################\n",
      "After [('fb', 0, 2, 'ORG')]\n",
      "##################################################\n"
     ]
    }
   ],
   "source": [
    "# Example: Setting entity annotations\n",
    "from spacy.tokens import Span\n",
    "\n",
    "doc = nlp(\"fb is hiring a new vice president of global policy\")\n",
    "ents = [(e.text, e.start_char, e.end_char, e.label_) for e in doc.ents]\n",
    "print('#'*50)\n",
    "print('Before', ents)\n",
    "print('#'*50)\n",
    "# the model didn't recognise \"fb\" as an entity :(\n",
    "\n",
    "fb_ent = Span(doc, 0, 1, label=\"ORG\") # create a Span for the new entity\n",
    "doc.ents = list(doc.ents) + [fb_ent]\n",
    "\n",
    "ents = [(e.text, e.start_char, e.end_char, e.label_) for e in doc.ents]\n",
    "print('After', ents)\n",
    "print('#'*50)\n",
    "# [('fb', 0, 2, 'ORG')] 🎉"
   ]
  },
  {
   "cell_type": "code",
   "execution_count": 19,
   "metadata": {},
   "outputs": [
    {
     "data": {
      "text/html": [
       "<div class=\"entities\" style=\"line-height: 2.5; direction: ltr\">When \n",
       "<mark class=\"entity\" style=\"background: #c887fb; padding: 0.45em 0.6em; margin: 0 0.25em; line-height: 1; border-radius: 0.35em;\">\n",
       "    Sebastian\n",
       "    <span style=\"font-size: 0.8em; font-weight: bold; line-height: 1; border-radius: 0.35em; text-transform: uppercase; vertical-align: middle; margin-left: 0.5rem\">NORP</span>\n",
       "</mark>\n",
       " Thrun started working on self-driving cars at \n",
       "<mark class=\"entity\" style=\"background: #7aecec; padding: 0.45em 0.6em; margin: 0 0.25em; line-height: 1; border-radius: 0.35em;\">\n",
       "    Google\n",
       "    <span style=\"font-size: 0.8em; font-weight: bold; line-height: 1; border-radius: 0.35em; text-transform: uppercase; vertical-align: middle; margin-left: 0.5rem\">ORG</span>\n",
       "</mark>\n",
       " in \n",
       "<mark class=\"entity\" style=\"background: #bfe1d9; padding: 0.45em 0.6em; margin: 0 0.25em; line-height: 1; border-radius: 0.35em;\">\n",
       "    2007\n",
       "    <span style=\"font-size: 0.8em; font-weight: bold; line-height: 1; border-radius: 0.35em; text-transform: uppercase; vertical-align: middle; margin-left: 0.5rem\">DATE</span>\n",
       "</mark>\n",
       ", few people outside of the company took him seriously.</div>"
      ],
      "text/plain": [
       "<IPython.core.display.HTML object>"
      ]
     },
     "metadata": {},
     "output_type": "display_data"
    }
   ],
   "source": [
    "from spacy import displacy\n",
    "\n",
    "text = \"When Sebastian Thrun started working on self-driving cars at Google in 2007, few people outside of the company took him seriously.\"\n",
    "\n",
    "#nlp = spacy.load(\"en_core_web_sm\")\n",
    "doc = nlp(text)\n",
    "displacy.render(doc, style=\"ent\")"
   ]
  },
  {
   "cell_type": "markdown",
   "metadata": {},
   "source": [
    "# Entity Linking"
   ]
  },
  {
   "cell_type": "markdown",
   "metadata": {},
   "source": [
    "# Tokenization"
   ]
  },
  {
   "cell_type": "markdown",
   "metadata": {},
   "source": [
    "Tokenization is the task of splitting a text into meaningful segments, called tokens. The input to the tokenizer is a unicode text, and the output is a Doc object. To construct a Doc object, you need a Vocab instance, a sequence of word strings, and optionally a sequence of spaces booleans, which allow you to maintain alignment of the tokens into the original string.\n",
    "\n",
    "During processing, spaCy first tokenizes the text, i.e. segments it into words, punctuation and so on"
   ]
  },
  {
   "cell_type": "code",
   "execution_count": 21,
   "metadata": {},
   "outputs": [
    {
     "name": "stdout",
     "output_type": "stream",
     "text": [
      "GM\n",
      "said\n",
      "Monday\n",
      "it\n",
      "will\n",
      "invest\n",
      "$\n",
      "2.2\n",
      "billion\n",
      "into\n",
      "its\n",
      "Detroit\n",
      "-\n",
      "Hamtramck\n",
      "assembly\n",
      "plant\n",
      "to\n",
      "produce\n",
      "all\n",
      "-\n",
      "electric\n",
      "trucks\n",
      "and\n",
      "SUVs\n",
      "as\n",
      "well\n",
      "as\n",
      "a\n",
      "self\n",
      "-\n",
      "driving\n",
      "vehicle\n",
      "unveiled\n",
      "by\n",
      "its\n",
      "subsidiary\n",
      "Cruise\n",
      ".\n",
      "The\n",
      "automaker\n",
      "will\n",
      "invest\n",
      "an\n",
      "additional\n",
      "$\n",
      "800\n",
      "million\n",
      "in\n",
      "supplier\n",
      "tooling\n",
      "and\n",
      "other\n",
      "projects\n",
      "related\n",
      "to\n",
      "the\n",
      "launch\n",
      "of\n",
      "the\n",
      "new\n",
      "electric\n",
      "trucks\n",
      ".\n",
      "\n",
      "\n",
      "\n",
      "GM\n",
      "will\n",
      "kick\n",
      "off\n",
      "this\n",
      "new\n",
      "program\n",
      "with\n",
      "an\n",
      "all\n",
      "-\n",
      "electric\n",
      "pickup\n",
      "truck\n",
      "that\n",
      "will\n",
      "go\n",
      "into\n",
      "production\n",
      "in\n",
      "late\n",
      "2021\n",
      ".\n",
      "The\n",
      "Cruise\n",
      "Origin\n",
      ",\n",
      "the\n",
      "electric\n",
      "self\n",
      "-\n",
      "driving\n",
      "shuttle\n",
      "designed\n",
      "for\n",
      "ride\n",
      "sharing\n",
      ",\n",
      "will\n",
      "be\n",
      "the\n",
      "second\n",
      "vehicle\n",
      "to\n",
      "go\n",
      "into\n",
      "production\n",
      "at\n",
      "the\n",
      "Detroit\n",
      "area\n",
      "plant\n",
      ".\n",
      "\n",
      "\n",
      "\n",
      "Detroit\n",
      "-\n",
      "Hamtramck\n",
      "will\n",
      "be\n",
      "GM\n",
      "’s\n",
      "first\n",
      "fully\n",
      "-\n",
      "dedicated\n",
      "electric\n",
      "vehicle\n",
      "assembly\n",
      "plant\n",
      ".\n",
      "When\n",
      "fully\n",
      "operational\n",
      ",\n",
      "the\n",
      "plant\n",
      "will\n",
      "create\n",
      "more\n",
      "than\n",
      "2,200\n",
      "jobs\n",
      ",\n",
      "according\n",
      "to\n",
      "GM\n",
      ".\n"
     ]
    }
   ],
   "source": [
    "text=open(\"data/GM_News.txt\").read()\n",
    "doc=nlp(text)\n",
    "for token in doc:\n",
    "    print(token.text)"
   ]
  },
  {
   "cell_type": "markdown",
   "metadata": {},
   "source": [
    "# Merging and splitting"
   ]
  },
  {
   "cell_type": "code",
   "execution_count": 22,
   "metadata": {},
   "outputs": [
    {
     "name": "stdout",
     "output_type": "stream",
     "text": [
      "Before: ['I', 'live', 'in', 'New', 'York']\n",
      "After: ['I', 'live', 'in', 'New York']\n"
     ]
    }
   ],
   "source": [
    "doc = nlp(\"I live in New York\")\n",
    "print(\"Before:\", [token.text for token in doc])\n",
    "\n",
    "with doc.retokenize() as retokenizer:\n",
    "    retokenizer.merge(doc[3:5], attrs={\"LEMMA\": \"new york\"})\n",
    "print(\"After:\", [token.text for token in doc])"
   ]
  },
  {
   "cell_type": "markdown",
   "metadata": {},
   "source": [
    "# Sentence Segmentation\n",
    "\n",
    "A Doc object’s sentences are available via the Doc.sents property. Unlike other libraries, spaCy uses the dependency parse to **determine sentence boundaries**. This is usually more accurate than a rule-based approach, but it also means you’ll need a statistical model and accurate predictions. If your **texts are closer to general-purpose news or web text, this should work well out-of-the-box**. For **social media or conversational text** that doesn’t follow the same rules, your application may benefit from a **custom rule-based implementation.** You can either use the built-in Sentencizer or plug an entirely custom rule-based function into your processing pipeline."
   ]
  },
  {
   "cell_type": "code",
   "execution_count": 24,
   "metadata": {},
   "outputs": [
    {
     "name": "stdout",
     "output_type": "stream",
     "text": [
      "GM said Monday it will invest $2.2 billion into its Detroit-Hamtramck assembly plant to produce all-electric trucks and SUVs as well as a self-driving vehicle unveiled by its subsidiary Cruise.\n",
      "\n",
      "\n",
      "The automaker will invest an additional $800 million in supplier tooling and other projects related to the launch of the new electric trucks.\n",
      "\n",
      "\n",
      "\n",
      "\n",
      "GM will kick off this new program with an all-electric pickup truck that will go into production in late 2021.\n",
      "\n",
      "\n",
      "The Cruise Origin, the electric self-driving shuttle designed for ride sharing, will be the second vehicle to go into production at the Detroit area plant.\n",
      "\n",
      "\n",
      "\n",
      "\n",
      "Detroit-Hamtramck will be GM’s first fully-dedicated electric vehicle assembly plant.\n",
      "\n",
      "\n",
      "When fully operational, the plant will create more than 2,200 jobs, according to GM.\n",
      "\n",
      "\n"
     ]
    }
   ],
   "source": [
    "text=open(\"data/GM_News.txt\").read()\n",
    "doc=nlp(text)\n",
    "\n",
    "for sent in doc.sents:\n",
    "    print(sent.text)\n",
    "    print('\\n')"
   ]
  },
  {
   "cell_type": "markdown",
   "metadata": {},
   "source": [
    "# Custom rule-based strategy"
   ]
  },
  {
   "cell_type": "code",
   "execution_count": 27,
   "metadata": {},
   "outputs": [
    {
     "name": "stdout",
     "output_type": "stream",
     "text": [
      "##################################################\n",
      "Before: ['this is a sentence...', 'hello...and another sentence.']\n",
      "##################################################\n",
      "After: ['this is a sentence...', 'hello...', 'and another sentence.']\n"
     ]
    }
   ],
   "source": [
    "text = \"this is a sentence...hello...and another sentence.\"\n",
    "nlp = spacy.load(\"en_core_web_sm\")\n",
    "doc = nlp(text)\n",
    "print(\"#\"*50)\n",
    "print(\"Before:\", [sent.text for sent in doc.sents])\n",
    "\n",
    "def set_custom_boundaries(doc):\n",
    "    for token in doc[:-1]:\n",
    "        if token.text == \"...\":\n",
    "            doc[token.i+1].is_sent_start = True\n",
    "    return doc\n",
    "\n",
    "nlp.add_pipe(set_custom_boundaries, before=\"parser\")\n",
    "doc = nlp(text)\n",
    "print(\"#\"*50)\n",
    "print(\"After:\", [sent.text for sent in doc.sents])"
   ]
  }
 ],
 "metadata": {
  "kernelspec": {
   "display_name": "Python 3",
   "language": "python",
   "name": "python3"
  },
  "language_info": {
   "codemirror_mode": {
    "name": "ipython",
    "version": 3
   },
   "file_extension": ".py",
   "mimetype": "text/x-python",
   "name": "python",
   "nbconvert_exporter": "python",
   "pygments_lexer": "ipython3",
   "version": "3.6.7"
  }
 },
 "nbformat": 4,
 "nbformat_minor": 4
}
